{
 "cells": [
  {
   "cell_type": "code",
   "execution_count": 16,
   "metadata": {},
   "outputs": [],
   "source": [
    "\"\"\"Calculate motif enrichment from sample data.\"\"\"\n",
    "\n",
    "\n",
    "import numpy as np\n",
    "import scipy\n",
    "from scipy.stats.distributions import binom\n",
    "\n",
    "\n",
    "foreground = {\"UGAUUC\": 5, \"UAAACC\": 3, \"AAGUUACCU\": 1, \"AAGCCUU\": 1, \"AGUUCUA\": 1, \"UUUCCCG\": 5}\n",
    "background = {\"UGAUUC\": 3, \"UAAACC\": 5, \"AAGCCUUAU\": 1, \"AGUUCUA\": 1, \"UUUCCCG\": 5, \"UUGGAA\": 7}\n",
    "  "
   ]
  },
  {
   "cell_type": "markdown",
   "metadata": {},
   "source": [
    "Calculates enrichment and p-values of motifs with similar lengths.\n",
    "\n",
    "Args:\n",
    "    foreground: dictionary of motifs with counts\n",
    "    background: dictionary of motifs with counts\n",
    "\n",
    "Returns:\n",
    "    Dictionary including motifs, enrichment score and p-value\n",
    "\n",
    "Example: \n",
    "    foreground = {\"UGAUUC\": 5, \"UAAACC\": 3, \"AAGUUACCU\": 1, \"AAGCCUU\": 1, \"AGUUCUA\": 1, \"UUUCCCG\": 5},\n",
    "    background = {\"UGAUUC\": 3, \"UAAACC\": 5, \"AAGCCUUAU\": 1, \"AGUUCUA\": 1, \"UUUCCCG\": 5, \"UUGGAA\": 7}\n",
    "    \n",
    "    >>> motifEnrichment(foreground, background)\n",
    "        {'UGAUUC': [0.7333333333333334, 0.01646090534979423],\n",
    "        'UAAACC': [0.7333333333333334, 0.21947873799725662],\n",
    "        'AAGUUACCU': [1.375, 0.26337448559670795],\n",
    "        'AAGCCUU': [1.6041666666666667, 0.26337448559670795],\n",
    "        'AGUUCUA': [1.6041666666666667, 0.26337448559670795],\n",
    "        'UUUCCCG': [1.6041666666666667, 0.01646090534979423]}\n",
    " \n",
    "    \n",
    "    \n",
    "    \n",
    "    "
   ]
  },
  {
   "cell_type": "code",
   "execution_count": 17,
   "metadata": {},
   "outputs": [],
   "source": [
    " def motifEnrichment(\n",
    "    foreground, \n",
    "    background\n",
    "):\n",
    "        \n",
    "    # Foreground dictionary\n",
    "    newDictForeground = dict()\n",
    "    newDictForegroundProb = dict()\n",
    "    newDictForegroundFinal = dict()\n",
    "    newDictForegroundBinom = dict()\n",
    "    keyListF = list(foreground.keys())\n",
    "    lengthListF = list()\n",
    "    \n",
    "    # Background dictionary\n",
    "    newDictBackground = dict()\n",
    "    newDictBackgroundProb = dict()\n",
    "    keyListB = list(background.keys())\n",
    "    lengthListB = list()\n",
    "    \n",
    "    # Foreground dictionary\n",
    "    # Calulates sum of motifs of same length\n",
    "    for i in keyListF: \n",
    "        \n",
    "        if len(i) in lengthListF:\n",
    "            newDictForeground[len(i)] += foreground[i]     \n",
    "        else: \n",
    "            newDictForeground[len(i)] = foreground[i]\n",
    "            lengthListF.append(len(i))\n",
    "            \n",
    "    # Calculates probability of occurrence of motifs\n",
    "    for i in newDictForeground:\n",
    "        \n",
    "        probOfOccurrenceF = newDictForeground[i] / sum(foreground.values())\n",
    "        newDictForegroundProb[i] = probOfOccurrenceF\n",
    "    \n",
    "    # Background dictionary\n",
    "    # Calulates sum of motifs of same length\n",
    "    for i in keyListB: \n",
    "        \n",
    "        if len(i) in lengthListB:\n",
    "            newDictBackground[len(i)] += background[i]     \n",
    "        else: \n",
    "            newDictBackground[len(i)] = background[i]\n",
    "            lengthListB.append(len(i))\n",
    "    \n",
    "    # Calculates probability of occurrence of motifs\n",
    "    for i in newDictBackground:\n",
    "        \n",
    "        probOfOccurrenceF = newDictBackground[i] / sum(background.values())\n",
    "        newDictBackgroundProb[i] = probOfOccurrenceF    \n",
    "    \n",
    "    # Main\n",
    "    # Calculates enrichment \n",
    "    enrichmentDict = dict()\n",
    "    \n",
    "    for i in newDictForegroundProb:\n",
    "\n",
    "        enrichmentDict[i] = newDictForegroundProb[i] / newDictBackgroundProb[i]    \n",
    "    \n",
    "    # Calculate p-value for foreground motifs    \n",
    "    n = len(foreground)\n",
    "    p = np.average(list(newDictBackgroundProb.values()))\n",
    "        \n",
    "    for i in foreground:\n",
    "        \n",
    "        r = foreground[i]\n",
    "        newDictForegroundBinom[i] = binom.pmf(r, n, p)\n",
    "       \n",
    "    # Create dictionary containing enrichment and p-values \n",
    "    for i in foreground: \n",
    "\n",
    "        newDictForegroundFinal[i] = [enrichmentDict[len(i)], newDictForegroundBinom[i]]\n",
    "    \n",
    "    return(newDictForegroundFinal)\n"
   ]
  },
  {
   "cell_type": "code",
   "execution_count": 18,
   "metadata": {},
   "outputs": [
    {
     "data": {
      "text/plain": [
       "{'TGATTC': [0.7333333333333334, 0.01646090534979423],\n",
       " 'TAAACC': [0.7333333333333334, 0.21947873799725662],\n",
       " 'AAGTTACCT': [1.375, 0.26337448559670795],\n",
       " 'AAGCCTT': [1.6041666666666667, 0.26337448559670795],\n",
       " 'AGTTCTA': [1.6041666666666667, 0.26337448559670795],\n",
       " 'TTTCCCG': [1.6041666666666667, 0.01646090534979423]}"
      ]
     },
     "execution_count": 18,
     "metadata": {},
     "output_type": "execute_result"
    }
   ],
   "source": [
    "motifEnrichment(foreground, background)"
   ]
  },
  {
   "cell_type": "code",
   "execution_count": null,
   "metadata": {},
   "outputs": [],
   "source": []
  }
 ],
 "metadata": {
  "kernelspec": {
   "display_name": "Python 3",
   "language": "python",
   "name": "python3"
  },
  "language_info": {
   "codemirror_mode": {
    "name": "ipython",
    "version": 3
   },
   "file_extension": ".py",
   "mimetype": "text/x-python",
   "name": "python",
   "nbconvert_exporter": "python",
   "pygments_lexer": "ipython3",
   "version": "3.8.5"
  }
 },
 "nbformat": 4,
 "nbformat_minor": 4
}
