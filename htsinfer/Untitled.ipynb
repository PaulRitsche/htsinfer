{
 "cells": [
  {
   "cell_type": "code",
   "execution_count": 2,
   "metadata": {},
   "outputs": [],
   "source": [
    "\"\"\"Calculate motif enrichment from sample data.\"\"\"\n",
    "\n",
    "\n",
    "import numpy as np\n",
    "import scipy\n",
    "from scipy.stats.distributions import binom\n",
    "\n",
    "\n",
    "FOREGROUND_DICT = {\"UGAUUC\": 5, \"UAAACC\": 3, \"AAGUUACCU\": 1,\n",
    "                   \"AAGCCUU\": 1, \"AGUUCUA\": 1, \"UUUCCCG\": 5}\n",
    "BACKGROUND_DICT = {\"UGAUUC\": 3, \"UAAACC\": 5, \"AAGCCUUAU\": 1,\n",
    "                   \"AGUUCUA\": 1, \"UUUCCCG\": 5, \"UUGGAA\": 7}"
   ]
  },
  {
   "cell_type": "markdown",
   "metadata": {},
   "source": [
    "Calculates enrichment and p-values of motifs with similar lengths.\n",
    "\n",
    "Args:\n",
    "    foreground: dictionary of motifs with counts\n",
    "    background: dictionary of motifs with counts\n",
    "\n",
    "Returns:\n",
    "    Dictionary including motifs, enrichment score and p-value\n",
    "\n",
    "Example: \n",
    "    foreground = {\"UGAUUC\": 5, \"UAAACC\": 3, \"AAGUUACCU\": 1, \"AAGCCUU\": 1, \"AGUUCUA\": 1, \"UUUCCCG\": 5},\n",
    "    background = {\"UGAUUC\": 3, \"UAAACC\": 5, \"AAGCCUUAU\": 1, \"AGUUCUA\": 1, \"UUUCCCG\": 5, \"UUGGAA\": 7}\n",
    "    \n",
    "    >>> motifEnrichment(foreground, background)\n",
    "        {'UGAUUC': [0.7333333333333334, 0.01646090534979423],\n",
    "        'UAAACC': [0.7333333333333334, 0.21947873799725662],\n",
    "        'AAGUUACCU': [1.375, 0.26337448559670795],\n",
    "        'AAGCCUU': [1.6041666666666667, 0.26337448559670795],\n",
    "        'AGUUCUA': [1.6041666666666667, 0.26337448559670795],\n",
    "        'UUUCCCG': [1.6041666666666667, 0.01646090534979423]}\n",
    " \n",
    "    \n",
    "    \n",
    "    \n",
    "    "
   ]
  },
  {
   "cell_type": "code",
   "execution_count": 3,
   "metadata": {},
   "outputs": [],
   "source": [
    " def motifEnrichment(\n",
    "    foreground, \n",
    "    background\n",
    "):\n",
    "        \n",
    "     # Foreground dictionary\n",
    "    new_dict_foreground = dict()\n",
    "    new_dict_foreground_prob = dict()\n",
    "    new_dict_foreground_final = dict()\n",
    "    new_dict_foreground_binom = dict()\n",
    "    key_list_f = list(foreground.keys())\n",
    "    length_list_f = list()\n",
    "    \n",
    "    # Background dictionary\n",
    "    new_dict_background = dict()\n",
    "    new_dict_background_prob = dict()\n",
    "    key_list_b = list(background.keys())\n",
    "    length_list_b = list()\n",
    "    \n",
    "    # Foreground dictionary\n",
    "    # Calulates sum of motifs of same length\n",
    "    for i in key_list_f: \n",
    "        \n",
    "        if len(i) in length_list_f:\n",
    "            new_dict_foreground[len(i)] += foreground[i]     \n",
    "        else: \n",
    "            new_dict_foreground[len(i)] = foreground[i]\n",
    "            length_list_f.append(len(i))\n",
    "            \n",
    "    # Calculates probability of occurrence of motifs\n",
    "    for i in new_dict_foreground:\n",
    "        \n",
    "        prob_of_occurrence_f = new_dict_foreground[i] / sum(foreground.values())\n",
    "        new_dict_foreground_prob[i] = prob_of_occurrence_f\n",
    "    \n",
    "    # Background dictionary\n",
    "    # Calulates sum of motifs of same length\n",
    "    for i in key_list_b: \n",
    "        \n",
    "        if len(i) in length_list_b:\n",
    "            new_dict_background[len(i)] += background[i]     \n",
    "        else: \n",
    "            new_dict_background[len(i)] = background[i]\n",
    "            length_list_b.append(len(i))\n",
    "    \n",
    "    # Calculates probability of occurrence of motifs\n",
    "    for i in new_dict_background:\n",
    "        \n",
    "        prob_of_occurrence_f = new_dict_background[i] / sum(background.values())\n",
    "        new_dict_background_prob[i] = prob_of_occurrence_f    \n",
    "    \n",
    "    # Main\n",
    "    # Calculates enrichment \n",
    "    enrichment_dict = dict()\n",
    "    \n",
    "    for i in new_dict_foreground_prob:\n",
    "\n",
    "        enrichment_dict[i] = new_dict_foreground_prob[i] / new_dict_background_prob[i]    \n",
    "    \n",
    "    # Calculate p-value for foreground motifs    \n",
    "    n = len(foreground)\n",
    "    p = np.average(list(new_dict_background_prob.values()))\n",
    "        \n",
    "    for i in foreground:\n",
    "        \n",
    "        r = foreground[i]\n",
    "        new_dict_foreground_binom[i] = (1-binom.cdf(r, n, p))\n",
    "       \n",
    "    # Create dictionary containing enrichment and p-values \n",
    "    for i in foreground: \n",
    "\n",
    "        new_dict_foreground_final[i] = [enrichment_dict[len(i)], new_dict_foreground_binom[i]]\n",
    "    \n",
    "    print(new_dict_foreground_final)\n",
    "    return(new_dict_foreground_final)\n"
   ]
  },
  {
   "cell_type": "code",
   "execution_count": 4,
   "metadata": {},
   "outputs": [
    {
     "name": "stdout",
     "output_type": "stream",
     "text": [
      "{'UGAUUC': [0.7333333333333334, 0.00137174211248281], 'UAAACC': [0.7333333333333334, 0.10013717421124824], 'AAGUUACCU': [1.375, 0.6488340192043895], 'AAGCCUU': [1.6041666666666667, 0.6488340192043895], 'AGUUCUA': [1.6041666666666667, 0.6488340192043895], 'UUUCCCG': [1.6041666666666667, 0.00137174211248281]}\n"
     ]
    },
    {
     "data": {
      "text/plain": [
       "{'UGAUUC': [0.7333333333333334, 0.00137174211248281],\n",
       " 'UAAACC': [0.7333333333333334, 0.10013717421124824],\n",
       " 'AAGUUACCU': [1.375, 0.6488340192043895],\n",
       " 'AAGCCUU': [1.6041666666666667, 0.6488340192043895],\n",
       " 'AGUUCUA': [1.6041666666666667, 0.6488340192043895],\n",
       " 'UUUCCCG': [1.6041666666666667, 0.00137174211248281]}"
      ]
     },
     "execution_count": 4,
     "metadata": {},
     "output_type": "execute_result"
    }
   ],
   "source": [
    "motifEnrichment(FOREGROUND_DICT, BACKGROUND_DICT)"
   ]
  },
  {
   "cell_type": "markdown",
   "metadata": {},
   "source": [
    "Testing"
   ]
  },
  {
   "cell_type": "code",
   "execution_count": 17,
   "metadata": {},
   "outputs": [
    {
     "ename": "ImportError",
     "evalue": "cannot import name 'infer_single_paired' from partially initialized module 'htsinfer' (most likely due to a circular import) (C:\\Users\\ritpau00\\OneDrive - Universität Basel\\Studium\\Master\\M1\\Programming for life sciences\\htsinfer\\htsinfer\\htsinfer.py)",
     "output_type": "error",
     "traceback": [
      "\u001b[1;31m---------------------------------------------------------------------------\u001b[0m",
      "\u001b[1;31mImportError\u001b[0m                               Traceback (most recent call last)",
      "\u001b[1;32m<ipython-input-17-5efea3985d04>\u001b[0m in \u001b[0;36m<module>\u001b[1;34m\u001b[0m\n\u001b[0;32m      2\u001b[0m \u001b[1;33m\u001b[0m\u001b[0m\n\u001b[0;32m      3\u001b[0m \u001b[1;32mimport\u001b[0m \u001b[0mpytest\u001b[0m\u001b[1;33m\u001b[0m\u001b[1;33m\u001b[0m\u001b[0m\n\u001b[1;32m----> 4\u001b[1;33m \u001b[1;32mfrom\u001b[0m \u001b[0mhtsinfer\u001b[0m\u001b[1;33m.\u001b[0m\u001b[0mhtsinfer\u001b[0m \u001b[1;32mimport\u001b[0m \u001b[0mmotif_enrichment\u001b[0m\u001b[1;33m\u001b[0m\u001b[1;33m\u001b[0m\u001b[0m\n\u001b[0m\u001b[0;32m      5\u001b[0m \u001b[1;33m\u001b[0m\u001b[0m\n\u001b[0;32m      6\u001b[0m FOREGROUND_DICT = {\"UGAUUC\": 5, \"UAAACC\": 3, \"AAGUUACCU\": 1, \"AAGCCUU\": 1, \"AGUUCUA\": 1,\n",
      "\u001b[1;32m~\\OneDrive - Universität Basel\\Studium\\Master\\M1\\Programming for life sciences\\htsinfer\\htsinfer\\htsinfer.py\u001b[0m in \u001b[0;36m<module>\u001b[1;34m\u001b[0m\n\u001b[0;32m      7\u001b[0m \u001b[1;32mfrom\u001b[0m \u001b[0mtyping\u001b[0m \u001b[1;32mimport\u001b[0m \u001b[1;33m(\u001b[0m\u001b[0mOptional\u001b[0m\u001b[1;33m,\u001b[0m \u001b[0mSequence\u001b[0m\u001b[1;33m)\u001b[0m\u001b[1;33m\u001b[0m\u001b[1;33m\u001b[0m\u001b[0m\n\u001b[0;32m      8\u001b[0m \u001b[1;33m\u001b[0m\u001b[0m\n\u001b[1;32m----> 9\u001b[1;33m from htsinfer import (\n\u001b[0m\u001b[0;32m     10\u001b[0m     \u001b[0minfer_single_paired\u001b[0m\u001b[1;33m,\u001b[0m\u001b[1;33m\u001b[0m\u001b[1;33m\u001b[0m\u001b[0m\n\u001b[0;32m     11\u001b[0m     \u001b[0m__version__\u001b[0m\u001b[1;33m,\u001b[0m\u001b[1;33m\u001b[0m\u001b[1;33m\u001b[0m\u001b[0m\n",
      "\u001b[1;31mImportError\u001b[0m: cannot import name 'infer_single_paired' from partially initialized module 'htsinfer' (most likely due to a circular import) (C:\\Users\\ritpau00\\OneDrive - Universität Basel\\Studium\\Master\\M1\\Programming for life sciences\\htsinfer\\htsinfer\\htsinfer.py)"
     ]
    }
   ],
   "source": [
    "\"\"\"Unit tests for motif_enrichment.py\"\"\"\n",
    "\n",
    "import pytest\n",
    "from htsinfer.htsinfer import motif_enrichment\n",
    "\n",
    "FOREGROUND_DICT = {\"UGAUUC\": 5, \"UAAACC\": 3, \"AAGUUACCU\": 1, \"AAGCCUU\": 1, \"AGUUCUA\": 1,\n",
    "                   \"UUUCCCG\": 5}\n",
    "BACKGROUND_DICT = {\"UGAUUC\": 3, \"UAAACC\": 5, \"AAGCCUUAU\": 1, \"AGUUCUA\": 1, \"UUUCCCG\": 5,\n",
    "                   \"UUGGAA\": 7}\n",
    "FOREGROUND_STR = {\"UGAUUC\": \"test\", \"UAAACC\": 3, \"AAGUUACCU\": 1, \"AAGCCUU\": 1, \"AGUUCUA\": 1,\n",
    "                  \"UUUCCCG\": 5}\n",
    "FINAL_DICT = {'UGAUUC': [0.7333333333333334, 0.00137174211248281],\n",
    "              'UAAACC': [0.7333333333333334, 0.10013717421124824],\n",
    "              'AAGUUACCU': [1.375, 0.6488340192043895],\n",
    "              'AAGCCUU': [1.6041666666666667, 0.6488340192043895],\n",
    "              'AGUUCUA': [1.6041666666666667, 0.6488340192043895],\n",
    "              'UUUCCCG': [1.6041666666666667, 0.00137174211248281]}\n",
    "\n",
    "\n",
    "class TestMotifEnrichment:\n",
    "    \"\"\"Tests for 'motif_enrichment' function.\"\"\"\n",
    "\n",
    "    def test_no_dictionaries(self):\n",
    "        \"No arguments passed.\"\n",
    "        with pytest.raises(TypeError):\n",
    "            motif_enrichment()\n",
    "\n",
    "    def test_one_dictionary(self):\n",
    "        \"Missing one required argument.\"\n",
    "        with pytest.raises(TypeError):\n",
    "            motif_enrichment(FOREGROUND_DICT)\n",
    "\n",
    "    def test_str_as_value(self):\n",
    "        \"Unsupported operand type 'str' as value in dictionary.\"\n",
    "        with pytest.raises(TypeError):\n",
    "            motif_enrichment(FOREGROUND_STR, BACKGROUND_DICT)\n",
    "\n",
    "    def test_valid_dictionaries(self):\n",
    "        \"Valid dictionaries passed.\"\n",
    "        assert motif_enrichment(FOREGROUND_DICT, BACKGROUND_DICT) == FINAL_DICT\n"
   ]
  },
  {
   "cell_type": "code",
   "execution_count": null,
   "metadata": {},
   "outputs": [],
   "source": []
  },
  {
   "cell_type": "code",
   "execution_count": null,
   "metadata": {},
   "outputs": [],
   "source": []
  }
 ],
 "metadata": {
  "kernelspec": {
   "display_name": "Python 3",
   "language": "python",
   "name": "python3"
  },
  "language_info": {
   "codemirror_mode": {
    "name": "ipython",
    "version": 3
   },
   "file_extension": ".py",
   "mimetype": "text/x-python",
   "name": "python",
   "nbconvert_exporter": "python",
   "pygments_lexer": "ipython3",
   "version": "3.8.5"
  }
 },
 "nbformat": 4,
 "nbformat_minor": 4
}
