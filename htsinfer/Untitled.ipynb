{
 "cells": [
  {
   "cell_type": "code",
   "execution_count": 76,
   "metadata": {},
   "outputs": [],
   "source": [
    "import numpy as np\n",
    "\n",
    "foreground = {\"TGATTC\": 5, \"TAAACC\": 3, \"AAGTTACCT\": 1, \"AAGCCTT\": 1, \"AGTTCTA\": 0, \"TTTCCCG\": 5}\n",
    "background = {\"TGATTC\": 3, \"TAAACC\": 5, \"AAGCCTTAT\": 0, \"AGTTCTA\": 1, \"TTTCCCG\": 5, \"TTGGAA\": 7}\n",
    "\n",
    "\n",
    "def motifEnrichment(\n",
    "    foreground, \n",
    "    background\n",
    "): \n",
    "    \"\"\"Calculates enrichment and p-values of motifs with similar lengths.\n",
    "\n",
    "    Args:\n",
    "        foreground: dictionary of motifs with counts\n",
    "        background: dictionary of motifs with counts\n",
    "\n",
    "    Returns:\n",
    "        Dictionary including motifs, sum of counts of motifs with \n",
    "        similar lenght, enrichment score and p-value\n",
    "\n",
    "    Raises:\n",
    "        .\n",
    "    \"\"\" \n",
    "   \n",
    "\n",
    "\n",
    "\n",
    "\n",
    "\n",
    "\n",
    "\n"
   ]
  },
  {
   "cell_type": "code",
   "execution_count": 123,
   "metadata": {},
   "outputs": [
    {
     "name": "stdout",
     "output_type": "stream",
     "text": [
      "{6: 2, 9: 1, 7: 3}\n",
      "{'TGATTC': [5, 0.3333333333333333], 'TAAACC': [3, 0.3333333333333333], 'AAGTTACCT': [1, 0.16666666666666666], 'AAGCCTT': [1, 0.5], 'AGTTCTA': [0, 0.5], 'TTTCCCG': [5, 0.5]}\n"
     ]
    }
   ],
   "source": [
    " \n",
    "    # Foreground dictionary\n",
    "    newDictForeground = dict()\n",
    "    newDictForegroundProb = dict()\n",
    "    newDictFinalF = dict()\n",
    "    keyListF = list(foreground.keys())\n",
    "    lengthListF = list()\n",
    "    \n",
    "    # Calulates sum of motifs of same length\n",
    "    for i in keyListF: \n",
    "        \n",
    "        if len(i) in lengthListF:\n",
    "            newDictForeground[len(i)] += 1      \n",
    "        else: \n",
    "            newDictForeground[len(i)] = 1\n",
    "            lengthListF.append(len(i))\n",
    "            \n",
    "    # Calculates probability of occurrence of motifs\n",
    "    for i in newDictForeground:\n",
    "        \n",
    "        probOfOccurrenceF = newDictForeground[i] / len(foreground)\n",
    "        newDictForegroundProb[i] = probOfOccurrenceF\n",
    "      \n",
    "    # Adds values to foreground dictionary\n",
    "    for i in foreground: \n",
    "        \n",
    "        newDictFinalF[i] = [foreground[i], newDictForegroundProb[len(i)]]\n",
    "        \n",
    "    print(newDictFinalF)\n",
    "    \n"
   ]
  },
  {
   "cell_type": "code",
   "execution_count": 129,
   "metadata": {},
   "outputs": [
    {
     "name": "stdout",
     "output_type": "stream",
     "text": [
      "{'TGATTC': [3, 0.5], 'TAAACC': [5, 0.5], 'AAGCCTTAT': [0, 0.16666666666666666], 'AGTTCTA': [1, 0.3333333333333333], 'TTTCCCG': [5, 0.3333333333333333], 'TTGGAA': [7, 0.5]}\n"
     ]
    }
   ],
   "source": [
    "    # Background dictionary\n",
    "    newDictBackground = dict()\n",
    "    newDictBackgroundProb = dict()\n",
    "    newDictFinalB= dict()\n",
    "    keyListB = list(background.keys())\n",
    "    lengthListB = list()\n",
    "    \n",
    "    # Calulates sum of motifs of same length\n",
    "    for i in keyListB: \n",
    "        \n",
    "        if len(i) in lengthListB:\n",
    "            newDictBackground[len(i)] += 1      \n",
    "        else: \n",
    "            newDictBackground[len(i)] = 1\n",
    "            lengthListB.append(len(i))\n",
    "            \n",
    "    # Calculates probability of occurrence of motifs\n",
    "    for i in newDictBackground:\n",
    "        \n",
    "        probOfOccurrenceF = newDictBackground [i] / len(background)\n",
    "        newDictBackgroundProb[i] = probOfOccurrenceF\n",
    "    \n",
    "    # Adds values to background dictionary\n",
    "    for i in background: \n",
    "        \n",
    "        newDictFinalB[i] = [background[i], newDictBackgroundProb[len(i)]]\n",
    "    \n",
    "    print(newDictFinalB)\n",
    "    "
   ]
  },
  {
   "cell_type": "code",
   "execution_count": 101,
   "metadata": {},
   "outputs": [
    {
     "name": "stdout",
     "output_type": "stream",
     "text": [
      "{1: 1.0}\n"
     ]
    }
   ],
   "source": [
    "# Motif enrichment \n",
    "\n",
    "enrichmentDict = dict()\n",
    "\n",
    "\n",
    "for i in range(len(newDictForegroundProb.keys())):\n",
    "    \n",
    "    if list(newDictForegroundProb.keys())[i] == list(newDictBackgroundProb.keys())[i]:\n",
    "        enrichmentDict[i] = newDictForegroundProb[i] / newDictBackgroundProb[i]\n",
    "\n",
    "print(enrichmentDict)\n"
   ]
  },
  {
   "cell_type": "code",
   "execution_count": 86,
   "metadata": {},
   "outputs": [
    {
     "name": "stdout",
     "output_type": "stream",
     "text": [
      "[0.5, 0.16666666666666666, 0.3333333333333333]\n"
     ]
    },
    {
     "data": {
      "text/plain": [
       "0.3333333333333333"
      ]
     },
     "execution_count": 86,
     "metadata": {},
     "output_type": "execute_result"
    }
   ],
   "source": []
  },
  {
   "cell_type": "code",
   "execution_count": null,
   "metadata": {},
   "outputs": [],
   "source": []
  }
 ],
 "metadata": {
  "kernelspec": {
   "display_name": "Python 3",
   "language": "python",
   "name": "python3"
  },
  "language_info": {
   "codemirror_mode": {
    "name": "ipython",
    "version": 3
   },
   "file_extension": ".py",
   "mimetype": "text/x-python",
   "name": "python",
   "nbconvert_exporter": "python",
   "pygments_lexer": "ipython3",
   "version": "3.8.5"
  }
 },
 "nbformat": 4,
 "nbformat_minor": 4
}
